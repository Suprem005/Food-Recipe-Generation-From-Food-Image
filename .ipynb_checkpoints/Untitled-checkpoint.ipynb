{
 "cells": [
  {
   "cell_type": "code",
   "execution_count": 11,
   "id": "3ead5cb3-242f-4db9-8655-d76adf9db546",
   "metadata": {},
   "outputs": [
    {
     "ename": "NameError",
     "evalue": "name 'class_path' is not defined",
     "output_type": "error",
     "traceback": [
      "\u001b[1;31m---------------------------------------------------------------------------\u001b[0m",
      "\u001b[1;31mNameError\u001b[0m                                 Traceback (most recent call last)",
      "Cell \u001b[1;32mIn[11], line 21\u001b[0m\n\u001b[0;32m     19\u001b[0m train_class_counts, total_train_images \u001b[38;5;241m=\u001b[39m count_files_and_images(train_directory)\n\u001b[0;32m     20\u001b[0m test_class_counts, total_test_images \u001b[38;5;241m=\u001b[39m count_files_and_images(test_directory)\n\u001b[1;32m---> 21\u001b[0m \u001b[38;5;28mprint\u001b[39m(\u001b[43mclass_path\u001b[49m)\n",
      "\u001b[1;31mNameError\u001b[0m: name 'class_path' is not defined"
     ]
    }
   ],
   "source": [
    "import os\n",
    "\n",
    "def count_files_and_images(directory):\n",
    "    class_counts = {}\n",
    "    total_images = 0\n",
    "\n",
    "    for class_name in os.listdir(directory):\n",
    "        class_path = os.path.join(directory, class_name)\n",
    "        if os.path.isdir(class_path):\n",
    "            file_count = len(os.listdir(class_path))\n",
    "            class_counts[class_name] = file_count\n",
    "            total_images += file_count\n",
    "\n",
    "    return class_counts, total_images\n",
    "\n",
    "train_directory = 'dataset/train'\n",
    "test_directory = 'dataset/test'\n",
    "\n",
    "train_class_counts, total_train_images = count_files_and_images(train_directory)\n",
    "test_class_counts, total_test_images = count_files_and_images(test_directory)\n",
    "\n"
   ]
  },
  {
   "cell_type": "code",
   "execution_count": 5,
   "id": "2617bcec-7272-47b3-8dc6-7118e985e8f9",
   "metadata": {},
   "outputs": [
    {
     "name": "stdout",
     "output_type": "stream",
     "text": [
      "Train Directory:\n",
      "Class Counts: {'chatamari': 142, 'chhoila': 120, 'dalbhat': 205, 'dhindo': 108, 'gundruk': 80, 'kheer': 288, 'momo': 274, 'sekuwa': 125, 'selroti': 206}\n",
      "Total Train Images: 1548\n",
      "\n",
      "Test Directory:\n",
      "Class Counts: {'chatamari': 36, 'chhoila': 30, 'dalbhat': 53, 'dhindo': 27, 'gundruk': 20, 'kheer': 73, 'momo': 69, 'sekuwa': 34, 'selroti': 53}\n",
      "Total Test Images: 395\n"
     ]
    }
   ],
   "source": [
    "print(\"Train Directory:\")\n",
    "print(\"Class Counts:\", train_class_counts)\n",
    "print(\"Total Train Images:\", total_train_images)\n",
    "\n",
    "print(\"\\nTest Directory:\")\n",
    "print(\"Class Counts:\", test_class_counts)\n",
    "print(\"Total Test Images:\", total_test_images)"
   ]
  },
  {
   "cell_type": "code",
   "execution_count": 7,
   "id": "ee232573-ced0-4331-b0ad-4466e171fd8f",
   "metadata": {},
   "outputs": [
    {
     "ename": "NameError",
     "evalue": "name 'class_name' is not defined",
     "output_type": "error",
     "traceback": [
      "\u001b[1;31m---------------------------------------------------------------------------\u001b[0m",
      "\u001b[1;31mNameError\u001b[0m                                 Traceback (most recent call last)",
      "Cell \u001b[1;32mIn[7], line 1\u001b[0m\n\u001b[1;32m----> 1\u001b[0m \u001b[38;5;28mprint\u001b[39m(\u001b[43mclass_name\u001b[49m);\n",
      "\u001b[1;31mNameError\u001b[0m: name 'class_name' is not defined"
     ]
    }
   ],
   "source": [
    "print({class_name});"
   ]
  },
  {
   "cell_type": "code",
   "execution_count": null,
   "id": "25ad2bbd-df4c-4003-a6af-49014817170a",
   "metadata": {},
   "outputs": [],
   "source": []
  }
 ],
 "metadata": {
  "kernelspec": {
   "display_name": "Python 3 (ipykernel)",
   "language": "python",
   "name": "python3"
  },
  "language_info": {
   "codemirror_mode": {
    "name": "ipython",
    "version": 3
   },
   "file_extension": ".py",
   "mimetype": "text/x-python",
   "name": "python",
   "nbconvert_exporter": "python",
   "pygments_lexer": "ipython3",
   "version": "3.12.4"
  }
 },
 "nbformat": 4,
 "nbformat_minor": 5
}

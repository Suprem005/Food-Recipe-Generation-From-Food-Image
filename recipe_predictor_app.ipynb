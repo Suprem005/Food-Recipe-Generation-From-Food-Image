{
 "cells": [
  {
   "cell_type": "code",
   "execution_count": 16,
   "metadata": {},
   "outputs": [],
   "source": [
    "# Cell 1: Import Libraries\n",
    "import pandas as pd\n",
    "import os\n",
    "import numpy as np\n",
    "from keras.preprocessing.image import load_img, img_to_array\n",
    "from sklearn.model_selection import train_test_split\n",
    "from keras.models import Sequential\n",
    "from keras.layers import Dense, Conv2D, Flatten, MaxPooling2D, Embedding, LSTM\n",
    "from keras.optimizers import Adam\n",
    "from keras.utils import to_categorical\n",
    "import matplotlib.pyplot as plt\n",
    "from tensorflow.keras.preprocessing.text import Tokenizer\n",
    "from tensorflow.keras.preprocessing.sequence import pad_sequences\n",
    "\n",
    "\n"
   ]
  },
  {
   "cell_type": "code",
   "execution_count": 17,
   "metadata": {},
   "outputs": [],
   "source": [
    "# Cell 2: Define Constants\n",
    "IMG_SIZE = 128  # Size to which images will be resized\n",
    "MAX_SEQUENCE_LENGTH = 50  # Max length of the recipes\n"
   ]
  },
  {
   "cell_type": "code",
   "execution_count": 18,
   "metadata": {},
   "outputs": [],
   "source": [
    "# Cell 3: Load and Preprocess Data\n",
    "# Load the merged CSV file\n",
    "data = pd.read_csv('merged_recipes_with_images.csv')\n",
    "\n",
    "# Prepare a dictionary to hold images for each recipe\n",
    "recipe_images = {}\n",
    "\n",
    "# Iterate through the data to group images by recipes\n",
    "for index, row in data.iterrows():\n",
    "    recipe = row['Recipe']  # Adjust based on your CSV column name\n",
    "    images = row['Image Paths'].split(', ')  # Update to use the correct column name\n",
    "\n",
    "    if recipe not in recipe_images:\n",
    "        recipe_images[recipe] = []\n",
    "    recipe_images[recipe].extend(images)\n",
    "\n",
    "# Prepare dataset for CNN\n",
    "X_images = []\n",
    "y_recipes = []\n",
    "\n",
    "for recipe, images in recipe_images.items():\n",
    "    for image_path in images:\n",
    "        img = load_img(image_path, target_size=(IMG_SIZE, IMG_SIZE))\n",
    "        img_array = img_to_array(img) / 255.0  # Normalize the images\n",
    "        X_images.append(img_array)\n",
    "        y_recipes.append(recipe)\n",
    "\n",
    "# Convert to numpy arrays\n",
    "X_images = np.array(X_images)\n",
    "y_recipes = np.array(y_recipes)\n",
    "\n",
    "# Convert y_recipes to categorical labels\n",
    "y_recipes_unique, y_recipes_encoded = np.unique(y_recipes, return_inverse=True)\n",
    "num_classes = len(y_recipes_unique)\n"
   ]
  },
  {
   "cell_type": "code",
   "execution_count": 19,
   "metadata": {},
   "outputs": [],
   "source": [
    "# Cell 4: Split Dataset\n",
    "X_train, X_test, y_train, y_test = train_test_split(X_images, y_recipes_encoded, test_size=0.2, random_state=42)\n"
   ]
  },
  {
   "cell_type": "code",
   "execution_count": 20,
   "metadata": {},
   "outputs": [
    {
     "name": "stderr",
     "output_type": "stream",
     "text": [
      "c:\\Users\\Lenovo\\AppData\\Local\\Programs\\Python\\Python312\\Lib\\site-packages\\keras\\src\\layers\\convolutional\\base_conv.py:107: UserWarning: Do not pass an `input_shape`/`input_dim` argument to a layer. When using Sequential models, prefer using an `Input(shape)` object as the first layer in the model instead.\n",
      "  super().__init__(activity_regularizer=activity_regularizer, **kwargs)\n"
     ]
    }
   ],
   "source": [
    "# Cell 5: Build CNN Model\n",
    "def create_cnn_model(input_shape, num_classes):\n",
    "    model = Sequential()\n",
    "    model.add(Conv2D(32, (3, 3), activation='relu', input_shape=input_shape))\n",
    "    model.add(MaxPooling2D(pool_size=(2, 2)))\n",
    "    model.add(Conv2D(64, (3, 3), activation='relu'))\n",
    "    model.add(MaxPooling2D(pool_size=(2, 2)))\n",
    "    model.add(Flatten())\n",
    "    model.add(Dense(128, activation='relu'))\n",
    "    model.add(Dense(num_classes, activation='softmax'))\n",
    "    return model\n",
    "\n",
    "# Create the CNN model\n",
    "cnn_model = create_cnn_model(X_train.shape[1:], num_classes)\n"
   ]
  },
  {
   "cell_type": "code",
   "execution_count": 21,
   "metadata": {},
   "outputs": [
    {
     "name": "stdout",
     "output_type": "stream",
     "text": [
      "Epoch 1/10\n",
      "\u001b[1m39/39\u001b[0m \u001b[32m━━━━━━━━━━━━━━━━━━━━\u001b[0m\u001b[37m\u001b[0m \u001b[1m15s\u001b[0m 306ms/step - accuracy: 0.1208 - loss: 3.6915 - val_accuracy: 0.1968 - val_loss: 2.0476\n",
      "Epoch 2/10\n",
      "\u001b[1m39/39\u001b[0m \u001b[32m━━━━━━━━━━━━━━━━━━━━\u001b[0m\u001b[37m\u001b[0m \u001b[1m11s\u001b[0m 291ms/step - accuracy: 0.2646 - loss: 1.9478 - val_accuracy: 0.3452 - val_loss: 1.8219\n",
      "Epoch 3/10\n",
      "\u001b[1m39/39\u001b[0m \u001b[32m━━━━━━━━━━━━━━━━━━━━\u001b[0m\u001b[37m\u001b[0m \u001b[1m12s\u001b[0m 298ms/step - accuracy: 0.4404 - loss: 1.5694 - val_accuracy: 0.3516 - val_loss: 1.6647\n",
      "Epoch 4/10\n",
      "\u001b[1m39/39\u001b[0m \u001b[32m━━━━━━━━━━━━━━━━━━━━\u001b[0m\u001b[37m\u001b[0m \u001b[1m11s\u001b[0m 288ms/step - accuracy: 0.5775 - loss: 1.2430 - val_accuracy: 0.4097 - val_loss: 1.6730\n",
      "Epoch 5/10\n",
      "\u001b[1m39/39\u001b[0m \u001b[32m━━━━━━━━━━━━━━━━━━━━\u001b[0m\u001b[37m\u001b[0m \u001b[1m12s\u001b[0m 294ms/step - accuracy: 0.7342 - loss: 0.8421 - val_accuracy: 0.4065 - val_loss: 1.8637\n",
      "Epoch 6/10\n",
      "\u001b[1m39/39\u001b[0m \u001b[32m━━━━━━━━━━━━━━━━━━━━\u001b[0m\u001b[37m\u001b[0m \u001b[1m11s\u001b[0m 293ms/step - accuracy: 0.8785 - loss: 0.4671 - val_accuracy: 0.4226 - val_loss: 1.8940\n",
      "Epoch 7/10\n",
      "\u001b[1m39/39\u001b[0m \u001b[32m━━━━━━━━━━━━━━━━━━━━\u001b[0m\u001b[37m\u001b[0m \u001b[1m12s\u001b[0m 295ms/step - accuracy: 0.9430 - loss: 0.2277 - val_accuracy: 0.4323 - val_loss: 2.1948\n",
      "Epoch 8/10\n",
      "\u001b[1m39/39\u001b[0m \u001b[32m━━━━━━━━━━━━━━━━━━━━\u001b[0m\u001b[37m\u001b[0m \u001b[1m11s\u001b[0m 287ms/step - accuracy: 0.9706 - loss: 0.1245 - val_accuracy: 0.4097 - val_loss: 2.5703\n",
      "Epoch 9/10\n",
      "\u001b[1m39/39\u001b[0m \u001b[32m━━━━━━━━━━━━━━━━━━━━\u001b[0m\u001b[37m\u001b[0m \u001b[1m11s\u001b[0m 287ms/step - accuracy: 0.9955 - loss: 0.0525 - val_accuracy: 0.4323 - val_loss: 2.7597\n",
      "Epoch 10/10\n",
      "\u001b[1m39/39\u001b[0m \u001b[32m━━━━━━━━━━━━━━━━━━━━\u001b[0m\u001b[37m\u001b[0m \u001b[1m12s\u001b[0m 295ms/step - accuracy: 0.9980 - loss: 0.0224 - val_accuracy: 0.4129 - val_loss: 2.7547\n"
     ]
    }
   ],
   "source": [
    "# Cell 6: Compile and Train the Model\n",
    "cnn_model.compile(optimizer=Adam(), loss='sparse_categorical_crossentropy', metrics=['accuracy'])\n",
    "\n",
    "# Train the model\n",
    "history = cnn_model.fit(X_train, y_train, validation_data=(X_test, y_test), epochs=10, batch_size=32)\n"
   ]
  },
  {
   "cell_type": "code",
   "execution_count": 22,
   "metadata": {},
   "outputs": [
    {
     "data": {
      "image/png": "[encoded data removed]",
      "text/plain": [
       "<Figure size 640x480 with 1 Axes>"
      ]
     },
     "metadata": {},
     "output_type": "display_data"
    }
   ],
   "source": [
    "# Cell 7: Plot Training History\n",
    "plt.plot(history.history['accuracy'], label='accuracy')\n",
    "plt.plot(history.history['val_accuracy'], label='val_accuracy')\n",
    "plt.xlabel('Epoch')\n",
    "plt.ylabel('Accuracy')\n",
    "plt.legend()\n",
    "plt.show()\n"
   ]
  },
  {
   "cell_type": "code",
   "execution_count": 23,
   "metadata": {},
   "outputs": [
    {
     "name": "stderr",
     "output_type": "stream",
     "text": [
      "WARNING:absl:You are saving your model as an HDF5 file via `model.save()` or `keras.saving.save_model(model)`. This file format is considered legacy. We recommend using instead the native Keras format, e.g. `model.save('my_model.keras')` or `keras.saving.save_model(model, 'my_model.keras')`. \n"
     ]
    }
   ],
   "source": [
    "# Cell 8: Save the Model\n",
    "cnn_model.save('cnn_model.h5')\n"
   ]
  },
  {
   "cell_type": "code",
   "execution_count": 32,
   "metadata": {},
   "outputs": [],
   "source": [
    "\n",
    "\n",
    "# Load your data\n",
    "data = pd.read_csv('merged_recipes_with_images.csv')\n",
    "\n",
    "# Assuming the column with recipes is named 'Recipe'\n",
    "recipes = data['Recipe'].values  # Make sure this column exists in your CSV\n",
    "\n",
    "# Initialize the Tokenizer\n",
    "tokenizer = Tokenizer()\n",
    "tokenizer.fit_on_texts(recipes)\n",
    "\n",
    "# Get the vocabulary size (+1 for padding token)\n",
    "vocab_size = len(tokenizer.word_index) + 1  \n",
    "\n",
    "# Set the maximum sequence length (can be adjusted based on your data)\n",
    "max_sequence_length = 50  \n",
    "\n",
    "# Convert recipes to sequences of integers\n",
    "sequences = tokenizer.texts_to_sequences(recipes)\n",
    "\n",
    "# Pad the sequences to ensure they all have the same length\n",
    "sequences = pad_sequences(sequences, maxlen=max_sequence_length)\n",
    "\n",
    "# Prepare the target variable (y_recipes_lstm)\n",
    "# Assuming y_recipes_lstm should be the labels shifted by one word\n",
    "# y_recipes_lstm should represent the next word to predict\n",
    "# It will take the sequences and use all but the first element as the target\n",
    "y_recipes_lstm = np.array([seq[1:] for seq in sequences])  # Target is the sequence shifted by one\n",
    "y_recipes_lstm = np.eye(vocab_size)[y_recipes_lstm]  # Convert to one-hot encoding\n",
    "\n",
    "# Reshape y_recipes_lstm to match the expected shape\n",
    "# This ensures that the shape is (samples, timesteps, features)\n",
    "y_recipes_lstm = y_recipes_lstm.reshape(-1, max_sequence_length - 1, vocab_size)  # Adjusting timesteps\n"
   ]
  },
  {
   "cell_type": "code",
   "execution_count": 33,
   "metadata": {},
   "outputs": [
    {
     "name": "stderr",
     "output_type": "stream",
     "text": [
      "c:\\Users\\Lenovo\\AppData\\Local\\Programs\\Python\\Python312\\Lib\\site-packages\\keras\\src\\layers\\core\\embedding.py:90: UserWarning: Argument `input_length` is deprecated. Just remove it.\n",
      "  warnings.warn(\n"
     ]
    }
   ],
   "source": [
    "# Cell 10: Build LSTM Model\n",
    "def create_lstm_model(input_shape, num_classes):\n",
    "    model = Sequential()\n",
    "    model.add(Embedding(input_dim=num_classes, output_dim=128, input_length=input_shape[1]))\n",
    "    model.add(LSTM(128, return_sequences=False))\n",
    "    model.add(Dense(num_classes, activation='softmax'))\n",
    "    return model\n",
    "\n",
    "# Create the LSTM model\n",
    "lstm_model = create_lstm_model(sequences.shape, len(tokenizer.word_index) + 1)\n"
   ]
  },
  {
   "cell_type": "code",
   "execution_count": 39,
   "metadata": {},
   "outputs": [],
   "source": [
    "# Load the merged CSV file\n",
    "data = pd.read_csv('merged_recipes_with_images.csv')\n",
    "\n",
    "# Prepare a dictionary to hold images and recipes\n",
    "recipe_images = {}\n",
    "recipe_texts = {}\n",
    "\n",
    "# Iterate through the data to group images by recipes and collect recipe texts\n",
    "for index, row in data.iterrows():\n",
    "    recipe = row['Recipe']  # Adjust based on your CSV column name\n",
    "    images = row['Image Paths'].split(', ')  # Adjust based on your CSV column name\n",
    "    recipe_text = row['Recipe']  # Assuming you have a column for recipe text\n",
    "\n",
    "    # Store images\n",
    "    if recipe not in recipe_images:\n",
    "        recipe_images[recipe] = []\n",
    "    recipe_images[recipe].extend(images)\n",
    "\n",
    "    # Store recipe text\n",
    "    recipe_texts[recipe] = recipe_text\n"
   ]
  },
  {
   "cell_type": "code",
   "execution_count": 41,
   "metadata": {},
   "outputs": [],
   "source": [
    "# Prepare the tokenizer for the recipe texts\n",
    "tokenizer = Tokenizer()\n",
    "tokenizer.fit_on_texts(recipe_texts.values())  # Fit tokenizer on all recipe texts\n",
    "\n",
    "# Convert texts to sequences\n",
    "sequences = tokenizer.texts_to_sequences(recipe_texts.values())\n",
    "\n",
    "# Pad the sequences to ensure uniform input size\n",
    "sequences = pad_sequences(sequences, maxlen=MAX_SEQUENCE_LENGTH)\n",
    "\n",
    "# Convert the sequences to the format required for LSTM\n",
    "# Use the previous sequences as input and the next word as the target\n",
    "X_recipes = []\n",
    "y_recipes_lstm = []\n",
    "\n",
    "for seq in sequences:\n",
    "    for i in range(1, len(seq)):\n",
    "        X_recipes.append(seq[:i])  # Previous words\n",
    "        y_recipes_lstm.append(seq[i])  # Next word\n",
    "\n",
    "# Pad the sequences for LSTM input\n",
    "X_recipes = pad_sequences(X_recipes, maxlen=MAX_SEQUENCE_LENGTH)\n",
    "\n",
    "# Convert to numpy arrays\n",
    "X_recipes = np.array(X_recipes)\n",
    "y_recipes_lstm = np.array(y_recipes_lstm)\n",
    "\n",
    "# Convert y_recipes_lstm to categorical labels\n",
    "y_recipes_lstm = to_categorical(y_recipes_lstm, num_classes=len(tokenizer.word_index) + 1)\n"
   ]
  },
  {
   "cell_type": "code",
   "execution_count": 42,
   "metadata": {},
   "outputs": [
    {
     "name": "stdout",
     "output_type": "stream",
     "text": [
      "Epoch 1/10\n"
     ]
    },
    {
     "name": "stderr",
     "output_type": "stream",
     "text": [
      "c:\\Users\\Lenovo\\AppData\\Local\\Programs\\Python\\Python312\\Lib\\site-packages\\keras\\src\\layers\\core\\embedding.py:90: UserWarning: Argument `input_length` is deprecated. Just remove it.\n",
      "  warnings.warn(\n"
     ]
    },
    {
     "name": "stdout",
     "output_type": "stream",
     "text": [
      "\u001b[1m11/11\u001b[0m \u001b[32m━━━━━━━━━━━━━━━━━━━━\u001b[0m\u001b[37m\u001b[0m \u001b[1m7s\u001b[0m 140ms/step - accuracy: 0.0127 - loss: 6.2888 - val_accuracy: 0.0225 - val_loss: 6.2310\n",
      "Epoch 2/10\n",
      "\u001b[1m11/11\u001b[0m \u001b[32m━━━━━━━━━━━━━━━━━━━━\u001b[0m\u001b[37m\u001b[0m \u001b[1m1s\u001b[0m 62ms/step - accuracy: 0.0515 - loss: 6.0195 - val_accuracy: 0.0225 - val_loss: 6.0247\n",
      "Epoch 3/10\n",
      "\u001b[1m11/11\u001b[0m \u001b[32m━━━━━━━━━━━━━━━━━━━━\u001b[0m\u001b[37m\u001b[0m \u001b[1m1s\u001b[0m 58ms/step - accuracy: 0.0354 - loss: 5.5049 - val_accuracy: 0.0225 - val_loss: 6.0280\n",
      "Epoch 4/10\n",
      "\u001b[1m11/11\u001b[0m \u001b[32m━━━━━━━━━━━━━━━━━━━━\u001b[0m\u001b[37m\u001b[0m \u001b[1m1s\u001b[0m 63ms/step - accuracy: 0.0419 - loss: 5.1148 - val_accuracy: 0.1011 - val_loss: 6.2288\n",
      "Epoch 5/10\n",
      "\u001b[1m11/11\u001b[0m \u001b[32m━━━━━━━━━━━━━━━━━━━━\u001b[0m\u001b[37m\u001b[0m \u001b[1m1s\u001b[0m 59ms/step - accuracy: 0.0682 - loss: 4.8997 - val_accuracy: 0.1011 - val_loss: 6.4093\n",
      "Epoch 6/10\n",
      "\u001b[1m11/11\u001b[0m \u001b[32m━━━━━━━━━━━━━━━━━━━━\u001b[0m\u001b[37m\u001b[0m \u001b[1m1s\u001b[0m 68ms/step - accuracy: 0.0699 - loss: 4.8776 - val_accuracy: 0.1011 - val_loss: 6.5456\n",
      "Epoch 7/10\n",
      "\u001b[1m11/11\u001b[0m \u001b[32m━━━━━━━━━━━━━━━━━━━━\u001b[0m\u001b[37m\u001b[0m \u001b[1m1s\u001b[0m 65ms/step - accuracy: 0.0637 - loss: 4.7880 - val_accuracy: 0.1011 - val_loss: 6.6423\n",
      "Epoch 8/10\n",
      "\u001b[1m11/11\u001b[0m \u001b[32m━━━━━━━━━━━━━━━━━━━━\u001b[0m\u001b[37m\u001b[0m \u001b[1m1s\u001b[0m 64ms/step - accuracy: 0.0864 - loss: 4.8343 - val_accuracy: 0.1011 - val_loss: 6.7349\n",
      "Epoch 9/10\n",
      "\u001b[1m11/11\u001b[0m \u001b[32m━━━━━━━━━━━━━━━━━━━━\u001b[0m\u001b[37m\u001b[0m \u001b[1m1s\u001b[0m 70ms/step - accuracy: 0.0688 - loss: 4.8408 - val_accuracy: 0.1011 - val_loss: 6.8092\n",
      "Epoch 10/10\n",
      "\u001b[1m11/11\u001b[0m \u001b[32m━━━━━━━━━━━━━━━━━━━━\u001b[0m\u001b[37m\u001b[0m \u001b[1m1s\u001b[0m 68ms/step - accuracy: 0.0652 - loss: 4.7791 - val_accuracy: 0.1011 - val_loss: 6.8798\n"
     ]
    }
   ],
   "source": [
    "# Build the LSTM model\n",
    "#def create_lstm_model(input_shape, num_classes):\n",
    "    #model = Sequential()\n",
    "    #model.add(Embedding(input_dim=num_classes, output_dim=128, input_length=input_shape[1]))\n",
    "    #model.add(LSTM(128, return_sequences=True))\n",
    "   # model.add(LSTM(64))\n",
    "  #  model.add(Dense(num_classes, activation='softmax'))\n",
    " #   return model\n",
    "\n",
    "# Create the LSTM model\n",
    "#lstm_model = create_lstm_model(X_recipes.shape, len(tokenizer.word_index) + 1)\n",
    "\n",
    "# Compile the model\n",
    "#lstm_model.compile(optimizer='adam', loss='categorical_crossentropy', metrics=['accuracy'])\n",
    "\n",
    "# Train the LSTM model\n",
    "#history_lstm = lstm_model.fit(X_recipes, y_recipes_lstm, validation_split=0.2, epochs=10, batch_size=32)\n"
   ]
  },
  {
   "cell_type": "code",
   "execution_count": 53,
   "metadata": {},
   "outputs": [
    {
     "name": "stdout",
     "output_type": "stream",
     "text": [
      "Epoch 1/10\n",
      "\u001b[1m11/11\u001b[0m \u001b[32m━━━━━━━━━━━━━━━━━━━━\u001b[0m\u001b[37m\u001b[0m \u001b[1m7s\u001b[0m 162ms/step - accuracy: 0.0110 - loss: 6.2920 - val_accuracy: 0.1011 - val_loss: 6.2703\n",
      "Epoch 2/10\n",
      "\u001b[1m11/11\u001b[0m \u001b[32m━━━━━━━━━━━━━━━━━━━━\u001b[0m\u001b[37m\u001b[0m \u001b[1m1s\u001b[0m 81ms/step - accuracy: 0.0275 - loss: 6.1886 - val_accuracy: 0.0225 - val_loss: 6.1068\n",
      "Epoch 3/10\n",
      "\u001b[1m11/11\u001b[0m \u001b[32m━━━━━━━━━━━━━━━━━━━━\u001b[0m\u001b[37m\u001b[0m \u001b[1m1s\u001b[0m 80ms/step - accuracy: 0.0498 - loss: 5.8714 - val_accuracy: 0.1011 - val_loss: 5.9656\n",
      "Epoch 4/10\n",
      "\u001b[1m11/11\u001b[0m \u001b[32m━━━━━━━━━━━━━━━━━━━━\u001b[0m\u001b[37m\u001b[0m \u001b[1m1s\u001b[0m 80ms/step - accuracy: 0.0719 - loss: 5.4237 - val_accuracy: 0.1011 - val_loss: 6.0095\n",
      "Epoch 5/10\n",
      "\u001b[1m11/11\u001b[0m \u001b[32m━━━━━━━━━━━━━━━━━━━━\u001b[0m\u001b[37m\u001b[0m \u001b[1m1s\u001b[0m 79ms/step - accuracy: 0.0476 - loss: 5.1543 - val_accuracy: 0.1011 - val_loss: 6.1946\n",
      "Epoch 6/10\n",
      "\u001b[1m11/11\u001b[0m \u001b[32m━━━━━━━━━━━━━━━━━━━━\u001b[0m\u001b[37m\u001b[0m \u001b[1m1s\u001b[0m 86ms/step - accuracy: 0.0650 - loss: 5.0300 - val_accuracy: 0.1011 - val_loss: 6.3649\n",
      "Epoch 7/10\n",
      "\u001b[1m11/11\u001b[0m \u001b[32m━━━━━━━━━━━━━━━━━━━━\u001b[0m\u001b[37m\u001b[0m \u001b[1m1s\u001b[0m 87ms/step - accuracy: 0.0612 - loss: 4.9748 - val_accuracy: 0.0225 - val_loss: 6.4831\n",
      "Epoch 8/10\n",
      "\u001b[1m11/11\u001b[0m \u001b[32m━━━━━━━━━━━━━━━━━━━━\u001b[0m\u001b[37m\u001b[0m \u001b[1m1s\u001b[0m 82ms/step - accuracy: 0.0725 - loss: 4.9346 - val_accuracy: 0.1011 - val_loss: 6.5534\n",
      "Epoch 9/10\n",
      "\u001b[1m11/11\u001b[0m \u001b[32m━━━━━━━━━━━━━━━━━━━━\u001b[0m\u001b[37m\u001b[0m \u001b[1m1s\u001b[0m 80ms/step - accuracy: 0.0599 - loss: 4.9943 - val_accuracy: 0.1011 - val_loss: 6.6114\n",
      "Epoch 10/10\n",
      "\u001b[1m11/11\u001b[0m \u001b[32m━━━━━━━━━━━━━━━━━━━━\u001b[0m\u001b[37m\u001b[0m \u001b[1m1s\u001b[0m 80ms/step - accuracy: 0.0611 - loss: 4.9342 - val_accuracy: 0.1011 - val_loss: 6.6755\n"
     ]
    }
   ],
   "source": [
    "from keras.layers import LSTM, Dropout\n",
    "\n",
    "def create_lstm_model(input_shape, num_classes):\n",
    "    model = Sequential()\n",
    "    model.add(Embedding(input_dim=10000, output_dim=128, input_length=input_shape[1]))  # Adjust parameters as needed\n",
    "    model.add(LSTM(128, return_sequences=True))\n",
    "    model.add(Dropout(0.5))  # Add dropout layer after LSTM\n",
    "    model.add(LSTM(64))  # You can adjust this layer as necessary\n",
    "    model.add(Dropout(0.5))  # Add another dropout layer\n",
    "    model.add(Dense(num_classes, activation='softmax'))\n",
    "    return model\n",
    " #Create the LSTM model\n",
    "lstm_model = create_lstm_model(X_recipes.shape, len(tokenizer.word_index) + 1)\n",
    "\n",
    "# Compile the model\n",
    "lstm_model.compile(optimizer='adam', loss='categorical_crossentropy', metrics=['accuracy'])\n",
    "\n",
    "# Train the LSTM model\n",
    "history_lstm = lstm_model.fit(X_recipes, y_recipes_lstm, validation_split=0.2, epochs=10, batch_size=32)\n",
    "\n"
   ]
  },
  {
   "cell_type": "code",
   "execution_count": 54,
   "metadata": {},
   "outputs": [
    {
     "name": "stderr",
     "output_type": "stream",
     "text": [
      "WARNING:absl:You are saving your model as an HDF5 file via `model.save()` or `keras.saving.save_model(model)`. This file format is considered legacy. We recommend using instead the native Keras format, e.g. `model.save('my_model.keras')` or `keras.saving.save_model(model, 'my_model.keras')`. \n"
     ]
    }
   ],
   "source": [
    "# Save the LSTM model\n",
    "lstm_model.save('lstm_model.h5')\n"
   ]
  }
 ],
 "metadata": {
  "kernelspec": {
   "display_name": "Python 3",
   "language": "python",
   "name": "python3"
  },
  "language_info": {
   "codemirror_mode": {
    "name": "ipython",
    "version": 3
   },
   "file_extension": ".py",
   "mimetype": "text/x-python",
   "name": "python",
   "nbconvert_exporter": "python",
   "pygments_lexer": "ipython3",
   "version": "3.12.4"
  }
 },
 "nbformat": 4,
 "nbformat_minor": 2
}

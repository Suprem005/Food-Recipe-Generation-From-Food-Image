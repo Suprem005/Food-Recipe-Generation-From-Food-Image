{
 "cells": [
  {
   "cell_type": "code",
   "execution_count": 14,
   "id": "3ead5cb3-242f-4db9-8655-d76adf9db546",
   "metadata": {},
   "outputs": [],
   "source": [
    "import os\n",
    "import matplotlib as plt\n",
    "\n",
    "#importing the datasets\n",
    "\n",
    "def count_files_and_images(directory):\n",
    "    class_counts = {}\n",
    "    total_images = 0\n",
    "\n",
    "    for class_name in os.listdir(directory):\n",
    "        class_path = os.path.join(directory, class_name)\n",
    "        if os.path.isdir(class_path):\n",
    "            file_count = len(os.listdir(class_path))\n",
    "            class_counts[class_name] = file_count\n",
    "            total_images += file_count\n",
    "\n",
    "    return class_counts, total_images\n",
    "\n",
    "train_directory = 'dataset/train'\n",
    "test_directory = 'dataset/test'\n",
    "\n",
    "train_class_counts, total_train_images = count_files_and_images(train_directory)\n",
    "test_class_counts, total_test_images = count_files_and_images(test_directory)\n",
    "\n"
   ]
  },
  {
   "cell_type": "code",
   "execution_count": 15,
   "id": "ee232573-ced0-4331-b0ad-4466e171fd8f",
   "metadata": {},
   "outputs": [
    {
     "name": "stdout",
     "output_type": "stream",
     "text": [
      "Train Directory:\n",
      "Class Counts: {'chatamari': 142, 'chhoila': 120, 'dalbhat': 205, 'dhindo': 108, 'gundruk': 80, 'kheer': 288, 'momo': 274, 'sekuwa': 125, 'selroti': 206}\n",
      "Total Train Images: 1548\n",
      "\n",
      "Test Directory:\n",
      "Class Counts: {'chatamari': 36, 'chhoila': 30, 'dalbhat': 53, 'dhindo': 27, 'gundruk': 20, 'kheer': 73, 'momo': 69, 'sekuwa': 34, 'selroti': 53}\n",
      "Total Test Images: 395\n"
     ]
    }
   ],
   "source": [
    "# Visualizing the datasets\n",
    "\n",
    "\n",
    "print(\"Train Directory:\")\n",
    "print(\"Class Counts:\", train_class_counts)\n",
    "print(\"Total Train Images:\", total_train_images)\n",
    "\n",
    "print(\"\\nTest Directory:\")\n",
    "print(\"Class Counts:\", test_class_counts)\n",
    "print(\"Total Test Images:\", total_test_images)"
   ]
  },
  {
   "cell_type": "code",
   "execution_count": 17,
   "id": "a1a6c6b6",
   "metadata": {},
   "outputs": [
    {
     "ename": "TypeError",
     "evalue": "'module' object is not callable",
     "output_type": "error",
     "traceback": [
      "\u001b[1;31m---------------------------------------------------------------------------\u001b[0m",
      "\u001b[1;31mTypeError\u001b[0m                                 Traceback (most recent call last)",
      "Cell \u001b[1;32mIn[17], line 15\u001b[0m\n\u001b[0;32m     10\u001b[0m     plt\u001b[38;5;241m.\u001b[39mxticks(rotation\u001b[38;5;241m=\u001b[39m\u001b[38;5;241m90\u001b[39m)\n\u001b[0;32m     11\u001b[0m     plt\u001b[38;5;241m.\u001b[39mshow()\n\u001b[1;32m---> 15\u001b[0m \u001b[43mplot_class_distribution\u001b[49m\u001b[43m(\u001b[49m\u001b[43mtrain_class_counts\u001b[49m\u001b[43m,\u001b[49m\u001b[43m \u001b[49m\u001b[38;5;124;43m'\u001b[39;49m\u001b[38;5;124;43mTraining Set Class Distribution\u001b[39;49m\u001b[38;5;124;43m'\u001b[39;49m\u001b[43m)\u001b[49m\n\u001b[0;32m     16\u001b[0m plot_class_distribution(test_class_counts, \u001b[38;5;124m'\u001b[39m\u001b[38;5;124mTesting Set Class Distribution\u001b[39m\u001b[38;5;124m'\u001b[39m)\n",
      "Cell \u001b[1;32mIn[17], line 5\u001b[0m, in \u001b[0;36mplot_class_distribution\u001b[1;34m(class_counts, title)\u001b[0m\n\u001b[0;32m      2\u001b[0m classes \u001b[38;5;241m=\u001b[39m \u001b[38;5;28mlist\u001b[39m(class_counts\u001b[38;5;241m.\u001b[39mkeys())\n\u001b[0;32m      3\u001b[0m counts \u001b[38;5;241m=\u001b[39m \u001b[38;5;28mlist\u001b[39m(class_counts\u001b[38;5;241m.\u001b[39mvalues())\n\u001b[1;32m----> 5\u001b[0m \u001b[43mplt\u001b[49m\u001b[38;5;241;43m.\u001b[39;49m\u001b[43mfigure\u001b[49m\u001b[43m(\u001b[49m\u001b[43mfigsize\u001b[49m\u001b[38;5;241;43m=\u001b[39;49m\u001b[43m(\u001b[49m\u001b[38;5;241;43m10\u001b[39;49m\u001b[43m,\u001b[49m\u001b[43m \u001b[49m\u001b[38;5;241;43m5\u001b[39;49m\u001b[43m)\u001b[49m\u001b[43m)\u001b[49m\n\u001b[0;32m      6\u001b[0m plt\u001b[38;5;241m.\u001b[39mbar(classes, counts, color\u001b[38;5;241m=\u001b[39m\u001b[38;5;124m'\u001b[39m\u001b[38;5;124mskyblue\u001b[39m\u001b[38;5;124m'\u001b[39m)\n\u001b[0;32m      7\u001b[0m plt\u001b[38;5;241m.\u001b[39mxlabel(\u001b[38;5;124m'\u001b[39m\u001b[38;5;124mClasses\u001b[39m\u001b[38;5;124m'\u001b[39m)\n",
      "\u001b[1;31mTypeError\u001b[0m: 'module' object is not callable"
     ]
    }
   ],
   "source": [
    "import matplotlib.pyplot as plt\n",
    "def plot_class_distribution(class_counts, title):\n",
    "    classes = list(class_counts.keys())\n",
    "    counts = list(class_counts.values())\n",
    "    \n",
    "    plt.figure(figsize=(10, 5))\n",
    "    plt.bar(classes, counts, color='skyblue')\n",
    "    plt.xlabel('Classes')\n",
    "    plt.ylabel('Number of Images')\n",
    "    plt.title(title)\n",
    "    plt.xticks(rotation=90)\n",
    "    plt.show()\n",
    "\n",
    "\n",
    "\n",
    "plot_class_distribution(train_class_counts, 'Training Set Class Distribution')\n",
    "plot_class_distribution(test_class_counts, 'Testing Set Class Distribution')"
   ]
  },
  {
   "cell_type": "code",
   "execution_count": null,
   "id": "f9edc32d",
   "metadata": {},
   "outputs": [],
   "source": []
  }
 ],
 "metadata": {
  "kernelspec": {
   "display_name": "Python 3 (ipykernel)",
   "language": "python",
   "name": "python3"
  },
  "language_info": {
   "codemirror_mode": {
    "name": "ipython",
    "version": 3
   },
   "file_extension": ".py",
   "mimetype": "text/x-python",
   "name": "python",
   "nbconvert_exporter": "python",
   "pygments_lexer": "ipython3",
   "version": "3.12.4"
  }
 },
 "nbformat": 4,
 "nbformat_minor": 5
}
